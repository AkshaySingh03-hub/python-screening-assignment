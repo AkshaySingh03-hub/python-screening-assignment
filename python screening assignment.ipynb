{
 "cells": [
  {
   "cell_type": "markdown",
   "id": "0b7c2477",
   "metadata": {},
   "source": [
    "# python screening assignment"
   ]
  },
  {
   "cell_type": "code",
   "execution_count": null,
   "id": "44245081",
   "metadata": {},
   "outputs": [],
   "source": []
  },
  {
   "cell_type": "code",
   "execution_count": null,
   "id": "867d2e04",
   "metadata": {},
   "outputs": [],
   "source": [
    "text=\"placement\"\n",
    "replace_text=\"screenimg\""
   ]
  },
  {
   "cell_type": "code",
   "execution_count": 15,
   "id": "773a06a0",
   "metadata": {},
   "outputs": [],
   "source": [
    "f=open('example.txt',\"r\")"
   ]
  },
  {
   "cell_type": "code",
   "execution_count": 16,
   "id": "69e088ca",
   "metadata": {},
   "outputs": [],
   "source": [
    "a=f.read()"
   ]
  },
  {
   "cell_type": "code",
   "execution_count": 17,
   "id": "92851c30",
   "metadata": {},
   "outputs": [],
   "source": [
    "a=a.replace(text,replace_text)"
   ]
  },
  {
   "cell_type": "code",
   "execution_count": 18,
   "id": "32b06ba1",
   "metadata": {},
   "outputs": [],
   "source": [
    "f.close()"
   ]
  },
  {
   "cell_type": "code",
   "execution_count": 19,
   "id": "023275d0",
   "metadata": {},
   "outputs": [],
   "source": [
    "f=open('example.txt',\"w\")"
   ]
  },
  {
   "cell_type": "code",
   "execution_count": 20,
   "id": "72119f61",
   "metadata": {},
   "outputs": [
    {
     "data": {
      "text/plain": [
       "30"
      ]
     },
     "execution_count": 20,
     "metadata": {},
     "output_type": "execute_result"
    }
   ],
   "source": [
    "f.write(a)"
   ]
  },
  {
   "cell_type": "code",
   "execution_count": 21,
   "id": "d3120c6f",
   "metadata": {},
   "outputs": [],
   "source": [
    "f.close()"
   ]
  },
  {
   "cell_type": "markdown",
   "id": "ca7680a5",
   "metadata": {},
   "source": [
    "# abstract class"
   ]
  },
  {
   "cell_type": "code",
   "execution_count": 1,
   "id": "6dbec298",
   "metadata": {},
   "outputs": [],
   "source": [
    "from abc import ABC,abstractmethod"
   ]
  },
  {
   "cell_type": "code",
   "execution_count": 4,
   "id": "71524e40",
   "metadata": {},
   "outputs": [],
   "source": [
    "class shape(ABC):        # abstract class\n",
    "    @abstractmethod      # using decorator to make \n",
    "    def area (self):    # abstract method\n",
    "        none\n",
    "    def show(self):   # normal method\n",
    "        print(\"hello\")"
   ]
  },
  {
   "cell_type": "code",
   "execution_count": 34,
   "id": "b7a36b9e",
   "metadata": {},
   "outputs": [],
   "source": [
    "class rectangle(shape):  # inheriting shape class\n",
    "     \n",
    "    def area (self):\n",
    "        a=2\n",
    "        b=3\n",
    "        return a*b"
   ]
  },
  {
   "cell_type": "code",
   "execution_count": 35,
   "id": "45bf6e40",
   "metadata": {},
   "outputs": [],
   "source": [
    "r=rectangle()"
   ]
  },
  {
   "cell_type": "code",
   "execution_count": 20,
   "id": "acd63683",
   "metadata": {},
   "outputs": [
    {
     "name": "stdout",
     "output_type": "stream",
     "text": [
      "hello\n",
      "None\n"
     ]
    }
   ],
   "source": [
    "print(r.show())"
   ]
  },
  {
   "cell_type": "code",
   "execution_count": 36,
   "id": "01172e55",
   "metadata": {},
   "outputs": [
    {
     "name": "stdout",
     "output_type": "stream",
     "text": [
      "6\n"
     ]
    }
   ],
   "source": [
    "print(r.area())"
   ]
  },
  {
   "cell_type": "markdown",
   "id": "4de3a967",
   "metadata": {},
   "source": [
    "# multilevel inheritance\n"
   ]
  },
  {
   "cell_type": "code",
   "execution_count": 37,
   "id": "f8410ad5",
   "metadata": {},
   "outputs": [],
   "source": [
    "class xyz:   # parent class\n",
    "    def __init__(self,a,b,c):\n",
    "        self.a=a\n",
    "        self.b=b\n",
    "        self.c=c\n",
    "        \n",
    "    def test(self):\n",
    "        print(\" This is method of class xyz \")\n",
    "        \n",
    "class xyz1(xyz):\n",
    "    def test1(self):\n",
    "        print (\"This is method of class xyz1\")\n",
    "        \n",
    "class xyz2(xyz1):\n",
    "    def test2(self):\n",
    "        print(\"This is method of class xyz2\")"
   ]
  },
  {
   "cell_type": "code",
   "execution_count": 39,
   "id": "c0bede1d",
   "metadata": {},
   "outputs": [],
   "source": [
    "f=xyz2(2,3,4)"
   ]
  },
  {
   "cell_type": "code",
   "execution_count": 42,
   "id": "867efb0d",
   "metadata": {},
   "outputs": [
    {
     "name": "stdout",
     "output_type": "stream",
     "text": [
      "This is method of class xyz2\n"
     ]
    }
   ],
   "source": [
    "f.test2()"
   ]
  },
  {
   "cell_type": "code",
   "execution_count": 43,
   "id": "46561e15",
   "metadata": {},
   "outputs": [
    {
     "name": "stdout",
     "output_type": "stream",
     "text": [
      "This is method of class xyz1\n"
     ]
    }
   ],
   "source": [
    "f.test1()"
   ]
  },
  {
   "cell_type": "code",
   "execution_count": null,
   "id": "e3ba9fbe",
   "metadata": {},
   "outputs": [],
   "source": []
  },
  {
   "cell_type": "markdown",
   "id": "15e2cc4b",
   "metadata": {},
   "source": [
    "# example using decorator"
   ]
  },
  {
   "cell_type": "code",
   "execution_count": null,
   "id": "75a1a275",
   "metadata": {},
   "outputs": [],
   "source": []
  },
  {
   "cell_type": "code",
   "execution_count": 44,
   "id": "704b8c1f",
   "metadata": {},
   "outputs": [],
   "source": [
    "def main_class(func):\n",
    "    \n",
    "    def sub_class():\n",
    "        print(\"Welcome\")\n",
    "        func()\n",
    "        print(\"Thank you\")\n",
    "    return sub_class()"
   ]
  },
  {
   "cell_type": "code",
   "execution_count": 45,
   "id": "d775743d",
   "metadata": {},
   "outputs": [
    {
     "name": "stdout",
     "output_type": "stream",
     "text": [
      "Welcome\n",
      "This is decorator\n",
      "Thank you\n"
     ]
    }
   ],
   "source": [
    "@main_class\n",
    "def decorator_class():\n",
    "    print(\"This is decorator\")"
   ]
  },
  {
   "cell_type": "code",
   "execution_count": null,
   "id": "69a6f2e4",
   "metadata": {},
   "outputs": [],
   "source": []
  },
  {
   "cell_type": "code",
   "execution_count": null,
   "id": "4fd50db9",
   "metadata": {},
   "outputs": [],
   "source": []
  },
  {
   "cell_type": "code",
   "execution_count": null,
   "id": "37543765",
   "metadata": {},
   "outputs": [],
   "source": []
  },
  {
   "cell_type": "code",
   "execution_count": null,
   "id": "fed14862",
   "metadata": {},
   "outputs": [],
   "source": []
  }
 ],
 "metadata": {
  "kernelspec": {
   "display_name": "Python 3 (ipykernel)",
   "language": "python",
   "name": "python3"
  },
  "language_info": {
   "codemirror_mode": {
    "name": "ipython",
    "version": 3
   },
   "file_extension": ".py",
   "mimetype": "text/x-python",
   "name": "python",
   "nbconvert_exporter": "python",
   "pygments_lexer": "ipython3",
   "version": "3.9.7"
  }
 },
 "nbformat": 4,
 "nbformat_minor": 5
}
